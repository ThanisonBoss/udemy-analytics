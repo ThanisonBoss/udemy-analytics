{
 "cells": [
  {
   "cell_type": "code",
   "execution_count": null,
   "metadata": {},
   "outputs": [],
   "source": [
    "import pandas as pd\n",
    "import requests\n",
    "from bs4 import BeautifulSoup\n",
    "import os\n",
    "from tqdm import tqdm\n",
    "import glob\n",
    "\n",
    "s = requests.Session()\n",
    "CATEGORIES_URL = 'https://www.udemy.com/'\n",
    "COURSES_URL = 'https://www.udemy.com/api-2.0/discovery-units/all_courses'\n",
    "page = s.get(CATEGORIES_URL)\n",
    "soup = BeautifulSoup(page.content, 'html.parser')\n",
    "\n",
    "categories = soup.findAll('a', attrs={'class': 'js-side-nav-cat js-subcat'})\n",
    "\n",
    "for category in tqdm(categories):\n",
    "    subcategory_id = category.get('data-id')\n",
    "    subcategory_name = category.get('href').split('/')[3]\n",
    "    category_name = category.get('href').split('/')[2]\n",
    "    file_path = f\"data/{category_name}-{subcategory_name}.csv\"\n",
    "    is_exist = os.path.exists(file_path)\n",
    "    if is_exist:\n",
    "        continue\n",
    "    result = pd.DataFrame()\n",
    "    count = 1\n",
    "    while True:\n",
    "        print(count)\n",
    "        response = s.get(COURSES_URL, params={'p': count,\n",
    "                                              'page_size': 60,\n",
    "                                              'subcategory_id': subcategory_id,\n",
    "                                              'source_page': 'subcategory_page',\n",
    "                                              'locale': 'en_US',\n",
    "                                              'currency': 'en_US',\n",
    "                                              'navigation_locale': 'en_US',\n",
    "                                              'skip_price': 'true',\n",
    "                                              'sos': 'ps',\n",
    "                                              'fl': 'scat'})\n",
    "        \n",
    "        if response.status_code == 200:\n",
    "            if len(response.json()['unit']['items']) == 0 :\n",
    "                break\n",
    "        elif response.status_code == 400:\n",
    "            if response.json() == {'detail': 'Invalid page size'}:\n",
    "                break\n",
    "\n",
    "        data = pd.DataFrame.from_dict(data = response.json()['unit']['items'])\n",
    "        data['category_name'] = category_name\n",
    "        data['subcategory_id'] = subcategory_id\n",
    "        data['subcategory_name'] = subcategory_name\n",
    "\n",
    "        result = pd.concat([result, data])\n",
    "        \n",
    "        count += 1\n",
    "    \n",
    "    result.to_csv(file_path, index=False)\n",
    "\n",
    "path = os.getcwd()\n",
    "csv_files = glob.glob(os.path.join(path, \"data/*.csv\"))\n",
    "li = []\n",
    "# loop over the list of csv files\n",
    "for file in csv_files:\n",
    "    df = pd.read_csv(file, index_col=None, header=0)\n",
    "    li.append(df)\n",
    "\n",
    "data = pd.concat(li, axis=0, ignore_index=True)\n",
    "data.to_csv('course.csv', index=False)"
   ]
  },
  {
   "cell_type": "code",
   "execution_count": 2,
   "metadata": {},
   "outputs": [
    {
     "name": "stderr",
     "output_type": "stream",
     "text": [
      " 78%|███████▊  | 3337/4287 [2:47:39<5:17:29, 20.05s/it]   "
     ]
    },
    {
     "name": "stdout",
     "output_type": "stream",
     "text": [
      "faile\n"
     ]
    },
    {
     "name": "stderr",
     "output_type": "stream",
     "text": [
      " 93%|█████████▎| 4000/4287 [3:23:54<1:33:15, 19.50s/it]"
     ]
    },
    {
     "name": "stdout",
     "output_type": "stream",
     "text": [
      "faile\n"
     ]
    },
    {
     "name": "stderr",
     "output_type": "stream",
     "text": [
      "100%|██████████| 4287/4287 [3:40:07<00:00,  3.08s/it]  \n"
     ]
    }
   ],
   "source": [
    "import pandas as pd\n",
    "import requests\n",
    "from bs4 import BeautifulSoup\n",
    "import os\n",
    "from tqdm import tqdm\n",
    "import glob\n",
    "import traceback\n",
    "\n",
    "s = requests.Session()\n",
    "PRICE_URL = 'https://www.udemy.com/api-2.0/pricing/'\n",
    "data = pd.read_csv(\"/Users/bossthanison/Documents/Portfoilio/project/udemy-analytics/dbt_udemy/seeds/raw_course.csv\")\n",
    "\n",
    "course_ids = list(set(data['id']))\n",
    "course_ids = [course_ids[i:i+50] for i in range(0,len(course_ids),50)]\n",
    "result = pd.DataFrame()\n",
    "fail_list = []\n",
    "for course_id in tqdm(course_ids):\n",
    "    try:\n",
    "        course_id_batch = \",\".join(map(str,course_id))\n",
    "        response = s.get(PRICE_URL, \n",
    "                        params={'course_ids': course_id_batch,\n",
    "                                'fields[pricing_result]': 'price,discount_price,list_price,price_detail,price_serve_tracking_id'})\n",
    "        df = pd.DataFrame.from_dict(response.json()['courses'])\n",
    "        df = df.swapaxes(\"index\", \"columns\")\n",
    "        result = pd.concat([result, df])\n",
    "    except:\n",
    "        fail_list.append(course_id)\n",
    "        print(f\"faile\")\n",
    "  \n",
    "result.to_csv(\"price.csv\")"
   ]
  },
  {
   "cell_type": "code",
   "execution_count": null,
   "metadata": {},
   "outputs": [],
   "source": []
  }
 ],
 "metadata": {
  "kernelspec": {
   "display_name": ".venv",
   "language": "python",
   "name": "python3"
  },
  "language_info": {
   "codemirror_mode": {
    "name": "ipython",
    "version": 3
   },
   "file_extension": ".py",
   "mimetype": "text/x-python",
   "name": "python",
   "nbconvert_exporter": "python",
   "pygments_lexer": "ipython3",
   "version": "3.9.13"
  },
  "orig_nbformat": 4
 },
 "nbformat": 4,
 "nbformat_minor": 2
}
